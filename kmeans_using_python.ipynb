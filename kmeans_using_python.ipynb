{
 "cells": [
  {
   "cell_type": "code",
   "execution_count": 41,
   "metadata": {},
   "outputs": [],
   "source": [
    "from statistics import  mean\n",
    "import matplotlib.pyplot as plt\n",
    "%matplotlib inline"
   ]
  },
  {
   "cell_type": "code",
   "execution_count": 42,
   "metadata": {},
   "outputs": [
    {
     "data": {
      "text/plain": [
       "[2, 3, 4, 10]"
      ]
     },
     "execution_count": 42,
     "metadata": {},
     "output_type": "execute_result"
    }
   ],
   "source": [
    "k=[2,3,4,10,11,12,20,25,30]\n",
    "m1=4\n",
    "m2=12\n",
    "k1=k[:m1]\n",
    "k1"
   ]
  },
  {
   "cell_type": "code",
   "execution_count": 43,
   "metadata": {},
   "outputs": [
    {
     "data": {
      "text/plain": [
       "[11, 12, 20, 25, 30]"
      ]
     },
     "execution_count": 43,
     "metadata": {},
     "output_type": "execute_result"
    }
   ],
   "source": [
    "k2=k[m1:]\n",
    "k2"
   ]
  },
  {
   "cell_type": "code",
   "execution_count": 44,
   "metadata": {},
   "outputs": [
    {
     "name": "stdout",
     "output_type": "stream",
     "text": [
      "mean1=3 \t mean=18\n",
      "mean1=7 \t mean=25\n",
      "mean1=7 \t mean=25\n"
     ]
    }
   ],
   "source": [
    "x=[]\n",
    "y=[]\n",
    "m1=4\n",
    "m2=12\n",
    "for i in range(0,3):\n",
    "    for i in k:\n",
    "        d1=abs(i-m1)\n",
    "        d2=abs(i-m2)\n",
    "        if d1 in range(0,3):\n",
    "            x.append(d1)\n",
    "            X=k[:len(x)] \n",
    "\n",
    "        else:\n",
    "            y.append(d2)\n",
    "            Y=k[len(x):]\n",
    "\n",
    "\n",
    "\n",
    "    m1=mean(X)\n",
    "    m2=mean(Y)\n",
    "    print('mean1={}'.format(m1),'\\t mean={}'.format(m2))\n"
   ]
  },
  {
   "cell_type": "code",
   "execution_count": 55,
   "metadata": {},
   "outputs": [],
   "source": [
    "import numpy as np\n",
    "np.random.seed(7)"
   ]
  },
  {
   "cell_type": "code",
   "execution_count": 58,
   "metadata": {},
   "outputs": [],
   "source": [
    "k=np.random.randint(1,80,20)\n",
    "m1=20\n",
    "m2=40"
   ]
  },
  {
   "cell_type": "code",
   "execution_count": 59,
   "metadata": {},
   "outputs": [
    {
     "name": "stdout",
     "output_type": "stream",
     "text": [
      "mean1=20 \t mean=52\n",
      "mean1=40 \t mean=52\n",
      "mean1=42 \t mean=52\n",
      "mean1=42 \t mean=52\n",
      "mean1=42 \t mean=52\n"
     ]
    }
   ],
   "source": [
    "x=[]\n",
    "y=[]\n",
    "for i in range(0,5):\n",
    "    for i in k:\n",
    "        d1=abs(i-m1)\n",
    "        d2=abs(i-m2)\n",
    "        if d1 in range(0,3):\n",
    "            x.append(d1)\n",
    "            X=k[:len(x)] \n",
    "\n",
    "        else:\n",
    "            y.append(d2)\n",
    "            Y=k[len(x):]\n",
    "\n",
    "\n",
    "\n",
    "    m1=mean(X)\n",
    "    m2=mean(Y)\n",
    "    print('mean1={}'.format(m1),'\\t mean={}'.format(m2))\n"
   ]
  },
  {
   "cell_type": "code",
   "execution_count": null,
   "metadata": {},
   "outputs": [],
   "source": []
  }
 ],
 "metadata": {
  "kernelspec": {
   "display_name": "py36",
   "language": "python",
   "name": "py36"
  },
  "language_info": {
   "codemirror_mode": {
    "name": "ipython",
    "version": 3
   },
   "file_extension": ".py",
   "mimetype": "text/x-python",
   "name": "python",
   "nbconvert_exporter": "python",
   "pygments_lexer": "ipython3",
   "version": "3.6.6"
  }
 },
 "nbformat": 4,
 "nbformat_minor": 2
}
