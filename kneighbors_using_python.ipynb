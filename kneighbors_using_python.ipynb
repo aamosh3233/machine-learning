{
 "cells": [
  {
   "cell_type": "raw",
   "metadata": {},
   "source": [
    "<h1>USING ONLY PYTHON TO MAKE A SIMPLE K NEIGHBOR </h1>"
   ]
  },
  {
   "cell_type": "code",
   "execution_count": 153,
   "metadata": {},
   "outputs": [],
   "source": [
    "import numpy as np,matplotlib.pyplot as plt\n",
    "%matplotlib inline\n"
   ]
  },
  {
   "cell_type": "code",
   "execution_count": 154,
   "metadata": {},
   "outputs": [],
   "source": [
    "#initializing all the variables\n",
    "a=[[1, 1], [1, 2], [2, 1], [2, 2]]\n",
    "b=[[3, 4], [3, 5], [4, 4], [4, 5]]\n",
    "#x and y are the dummy variables\n",
    "x=[3,2]\n",
    "y=[2,3]\n",
    "s=[]"
   ]
  },
  {
   "cell_type": "code",
   "execution_count": 155,
   "metadata": {},
   "outputs": [
    {
     "name": "stdout",
     "output_type": "stream",
     "text": [
      "2.23606797749979\n",
      "2.0\n",
      "1.4142135623730951\n",
      "1.0\n"
     ]
    }
   ],
   "source": [
    "for i,j in a:\n",
    "    s=((x[0]-i)**2+(x[1]-j)**2)**0.5\n",
    "    print(s)"
   ]
  },
  {
   "cell_type": "code",
   "execution_count": 156,
   "metadata": {},
   "outputs": [
    {
     "name": "stdout",
     "output_type": "stream",
     "text": [
      "2.0\n",
      "3.0\n",
      "2.23606797749979\n",
      "3.1622776601683795\n"
     ]
    }
   ],
   "source": [
    "for i,j in b:\n",
    "    s=((x[0]-i)**2+(x[1]-j)**2)**0.5\n",
    "    print(s)\n"
   ]
  },
  {
   "cell_type": "code",
   "execution_count": 157,
   "metadata": {},
   "outputs": [],
   "source": [
    "s=[1.0,0.0,1.4142135623730951,1.0]\n",
    "ss=[2.8284271247461903,3.605551275463989,3.605551275463989,4.242640687119285]"
   ]
  },
  {
   "cell_type": "code",
   "execution_count": 158,
   "metadata": {},
   "outputs": [
    {
     "data": {
      "text/plain": [
       "<matplotlib.collections.PathCollection at 0x7fce3d8a6ba8>"
      ]
     },
     "execution_count": 158,
     "metadata": {},
     "output_type": "execute_result"
    },
    {
     "data": {
      "image/png": "[encoded data removed]",
      "text/plain": [
       "<Figure size 432x288 with 1 Axes>"
      ]
     },
     "metadata": {},
     "output_type": "display_data"
    }
   ],
   "source": [
    "a=[1,1,2,2]\n",
    "b=[1,2,1,2]\n",
    "c=[3,3,4,4]\n",
    "d=[4,5,4,5]\n",
    "plt.scatter(a,b)\n",
    "plt.scatter(c,d)\n",
    "plt.scatter(x,y)"
   ]
  },
  {
   "cell_type": "markdown",
   "metadata": {},
   "source": [
    "#this is how the plotting looks before classification"
   ]
  },
  {
   "cell_type": "code",
   "execution_count": 159,
   "metadata": {},
   "outputs": [
    {
     "name": "stdout",
     "output_type": "stream",
     "text": [
      "x belongs to red group \n"
     ]
    },
    {
     "data": {
      "image/png": "[encoded data removed]",
      "text/plain": [
       "<Figure size 432x288 with 1 Axes>"
      ]
     },
     "metadata": {},
     "output_type": "display_data"
    }
   ],
   "source": [
    "if (s < ss):\n",
    "    print('x belongs to red group ')\n",
    "    plt.scatter(a,b,color='r',label='class A')\n",
    "    plt.scatter(c,d,label='class B')\n",
    "    plt.scatter(x,y,color='r')\n",
    "    plt.legend()\n",
    "else:\n",
    "    print('it belongs to blue group')\n",
    "    plt.scatter(a,b,label='class A')\n",
    "    plt.scatter(c,d,color='b',label='class A')\n",
    "    plt.scatter(x,y,color='b')\n"
   ]
  },
  {
   "cell_type": "markdown",
   "metadata": {},
   "source": [
    "# this is how plotting looks after classification"
   ]
  },
  {
   "cell_type": "code",
   "execution_count": 185,
   "metadata": {},
   "outputs": [],
   "source": [
    "import numpy as np,matplotlib.pyplot as plt\n",
    "%matplotlib inline\n"
   ]
  },
  {
   "cell_type": "code",
   "execution_count": 186,
   "metadata": {},
   "outputs": [],
   "source": [
    "#lets try for class b we will modify the value of x and y\n",
    "a=[[1, 1], [1, 2], [2, 1], [2, 2]]\n",
    "b=[[3, 4], [3, 5], [4, 4], [4, 5]]\n",
    "#x and y are the dummy variables\n",
    "x=[4,5]\n",
    "y=[5,4]\n",
    "s=[]"
   ]
  },
  {
   "cell_type": "code",
   "execution_count": 187,
   "metadata": {},
   "outputs": [
    {
     "name": "stdout",
     "output_type": "stream",
     "text": [
      "5.0\n",
      "4.242640687119285\n",
      "4.47213595499958\n",
      "3.605551275463989\n"
     ]
    }
   ],
   "source": [
    "for i,j in a:\n",
    "    s=((x[0]-i)**2+(x[1]-j)**2)**0.5\n",
    "    print(s)"
   ]
  },
  {
   "cell_type": "code",
   "execution_count": 188,
   "metadata": {},
   "outputs": [
    {
     "name": "stdout",
     "output_type": "stream",
     "text": [
      "1.4142135623730951\n",
      "1.0\n",
      "1.0\n",
      "0.0\n"
     ]
    }
   ],
   "source": [
    "for i,j in b:\n",
    "    s=((x[0]-i)**2+(x[1]-j)**2)**0.5\n",
    "    print(s)\n"
   ]
  },
  {
   "cell_type": "code",
   "execution_count": 189,
   "metadata": {},
   "outputs": [],
   "source": [
    "s=[5.0,4.242640687119285,4.47213595499958,3.605551275463989]\n",
    "ss=[1.4142135623730951,1.0,1.0,0.0]"
   ]
  },
  {
   "cell_type": "code",
   "execution_count": 190,
   "metadata": {},
   "outputs": [
    {
     "data": {
      "text/plain": [
       "<matplotlib.collections.PathCollection at 0x7fce3db79fd0>"
      ]
     },
     "execution_count": 190,
     "metadata": {},
     "output_type": "execute_result"
    },
    {
     "data": {
      "image/png": "[encoded data removed]",
      "text/plain": [
       "<Figure size 432x288 with 1 Axes>"
      ]
     },
     "metadata": {},
     "output_type": "display_data"
    }
   ],
   "source": [
    "a=[1,1,2,2]\n",
    "b=[1,2,1,2]\n",
    "c=[3,3,4,4]\n",
    "d=[4,5,4,5]\n",
    "plt.scatter(a,b)\n",
    "plt.scatter(c,d)\n",
    "plt.scatter(x,y)"
   ]
  },
  {
   "cell_type": "code",
   "execution_count": 191,
   "metadata": {},
   "outputs": [
    {
     "name": "stdout",
     "output_type": "stream",
     "text": [
      "it belongs to blue group\n"
     ]
    },
    {
     "data": {
      "image/png": "[encoded data removed]",
      "text/plain": [
       "<Figure size 432x288 with 1 Axes>"
      ]
     },
     "metadata": {},
     "output_type": "display_data"
    }
   ],
   "source": [
    "if (s < ss):\n",
    "    print('x belongs to red group ')\n",
    "    plt.scatter(a,b,color='r',label='class A')\n",
    "    plt.scatter(c,d,label='class B')\n",
    "    plt.scatter(x,y,color='r')\n",
    "    plt.legend()\n",
    "else:\n",
    "    print('it belongs to blue group')\n",
    "    plt.scatter(a,b,color='r',label='class A')\n",
    "    plt.scatter(c,d,color='b',label='class A')\n",
    "    plt.scatter(x,y,color='b')\n"
   ]
  }
 ],
 "metadata": {
  "kernelspec": {
   "display_name": "py36",
   "language": "python",
   "name": "py36"
  },
  "language_info": {
   "codemirror_mode": {
    "name": "ipython",
    "version": 3
   },
   "file_extension": ".py",
   "mimetype": "text/x-python",
   "name": "python",
   "nbconvert_exporter": "python",
   "pygments_lexer": "ipython3",
   "version": "3.6.6"
  }
 },
 "nbformat": 4,
 "nbformat_minor": 2
}
