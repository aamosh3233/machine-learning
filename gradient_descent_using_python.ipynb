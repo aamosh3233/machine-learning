{
 "cells": [
  {
   "cell_type": "code",
   "execution_count": 76,
   "metadata": {},
   "outputs": [],
   "source": [
    "import matplotlib.pyplot as plt,numpy as np"
   ]
  },
  {
   "cell_type": "code",
   "execution_count": 107,
   "metadata": {},
   "outputs": [
    {
     "name": "stdout",
     "output_type": "stream",
     "text": [
      " dot= 110 \n",
      " sum of elements 15 \n",
      " subtract of elements [1 2 3 4 5] \n",
      " multiplication [ 2  8 18 32 50]\n"
     ]
    }
   ],
   "source": [
    "#let me show you some features of numpy\n",
    "x=[1,2,3,4,5]\n",
    "y=[2,4,6,8,10]\n",
    "a=np.dot(x,y)#multiply x and y and sums all the elements within it\n",
    "b=np.sum(x)#sums all element within\n",
    "c=np.subtract(y,x)\n",
    "d=np.multiply(x,y)\n",
    "print(' dot=',a,'\\n sum of elements',b,'\\n subtract of elements',c,'\\n multiplication',d)\n"
   ]
  },
  {
   "cell_type": "code",
   "execution_count": 108,
   "metadata": {},
   "outputs": [],
   "source": [
    "#dummy variables\n",
    "x=[1,2,3,4,5]\n",
    "y=[2,4,6,8,10]\n",
    "\n"
   ]
  },
  {
   "cell_type": "code",
   "execution_count": 109,
   "metadata": {},
   "outputs": [
    {
     "data": {
      "text/plain": [
       "[<matplotlib.lines.Line2D at 0x7fc3357baac8>]"
      ]
     },
     "execution_count": 109,
     "metadata": {},
     "output_type": "execute_result"
    },
    {
     "data": {
      "image/png": "[encoded data removed]",
      "text/plain": [
       "<Figure size 432x288 with 1 Axes>"
      ]
     },
     "metadata": {},
     "output_type": "display_data"
    }
   ],
   "source": [
    "#plotting data\n",
    "plt.scatter(x,y)\n",
    "plt.plot(x,y_pred)\n",
    "#y_pred=mx+b          \n",
    "#for beginner we will not be using b for this program"
   ]
  },
  {
   "cell_type": "code",
   "execution_count": 110,
   "metadata": {},
   "outputs": [],
   "source": [
    "#for gradient descent:formula=theta:=theta+lr*[sum of all elements of [(theta * x)-y)] / (no. of elements) \n",
    "#hyper parameters\n",
    "iteration=4\n",
    "theta=0.5\n",
    "lr=0.1\n",
    "n=5\n",
    "#applying formula\n",
    "def val(theta,lr,n,x,y):\n",
    "    value=theta-lr*np.sum(np.multiply(np.subtract(np.multiply(theta,x),y),x))/n\n",
    "    theta=value\n",
    "    return value"
   ]
  },
  {
   "cell_type": "code",
   "execution_count": 111,
   "metadata": {},
   "outputs": [
    {
     "name": "stdout",
     "output_type": "stream",
     "text": [
      "2.15\n",
      "1.9849999999999999\n",
      "2.0015\n",
      "1.99985\n",
      "2.000015\n"
     ]
    }
   ],
   "source": [
    "for i in range(len(x)):\n",
    "    theta=val(theta,lr,n,x,y)\n",
    "    print(theta)\n"
   ]
  },
  {
   "cell_type": "code",
   "execution_count": 112,
   "metadata": {},
   "outputs": [
    {
     "data": {
      "text/plain": [
       "2.0"
      ]
     },
     "execution_count": 112,
     "metadata": {},
     "output_type": "execute_result"
    }
   ],
   "source": [
    "theta=round(theta)\n",
    "theta"
   ]
  },
  {
   "cell_type": "markdown",
   "metadata": {},
   "source": [
    "# for minimum error theta must be 2"
   ]
  },
  {
   "cell_type": "code",
   "execution_count": 113,
   "metadata": {},
   "outputs": [
    {
     "name": "stdout",
     "output_type": "stream",
     "text": [
      "[ 2.  4.  6.  8. 10.]\n"
     ]
    }
   ],
   "source": [
    "#dummy variables\n",
    "x=[1,2,3,4,5]\n",
    "y=[2,4,6,8,10]\n",
    "y_pred=np.multiply(theta,x)\n",
    "print(y_pred)\n"
   ]
  },
  {
   "cell_type": "markdown",
   "metadata": {},
   "source": [
    "# on plotting"
   ]
  },
  {
   "cell_type": "code",
   "execution_count": 114,
   "metadata": {},
   "outputs": [
    {
     "data": {
      "text/plain": [
       "[<matplotlib.lines.Line2D at 0x7fc335789438>]"
      ]
     },
     "execution_count": 114,
     "metadata": {},
     "output_type": "execute_result"
    },
    {
     "data": {
      "image/png": "[encoded data removed]",
      "text/plain": [
       "<Figure size 432x288 with 1 Axes>"
      ]
     },
     "metadata": {},
     "output_type": "display_data"
    }
   ],
   "source": [
    "plt.scatter(x,y)\n",
    "\n",
    "\n",
    "plt.plot(x,y_pred)\n",
    "#y_pred=mx+b         "
   ]
  },
  {
   "cell_type": "code",
   "execution_count": null,
   "metadata": {},
   "outputs": [],
   "source": []
  },
  {
   "cell_type": "markdown",
   "metadata": {},
   "source": [
    "# using same code where theta final value must be 3"
   ]
  },
  {
   "cell_type": "code",
   "execution_count": 122,
   "metadata": {},
   "outputs": [
    {
     "name": "stdout",
     "output_type": "stream",
     "text": [
      "[ 3.  6.  9. 12. 15.]\n"
     ]
    }
   ],
   "source": [
    "#dummy variables\n",
    "x=[1,2,3,4,5]\n",
    "y=[3,6,9,12,15]\n",
    "y_pred=np.multiply(theta,x)\n",
    "print(y_pred)\n"
   ]
  },
  {
   "cell_type": "code",
   "execution_count": 123,
   "metadata": {},
   "outputs": [
    {
     "name": "stdout",
     "output_type": "stream",
     "text": [
      "3.0\n",
      "3.0\n",
      "3.0\n",
      "3.0\n",
      "3.0\n"
     ]
    }
   ],
   "source": [
    "\n",
    "for i in range(len(x)):\n",
    "    theta=val(theta,lr,n,x,y)\n",
    "    print(theta)\n"
   ]
  },
  {
   "cell_type": "code",
   "execution_count": 124,
   "metadata": {},
   "outputs": [
    {
     "data": {
      "text/plain": [
       "3.0"
      ]
     },
     "execution_count": 124,
     "metadata": {},
     "output_type": "execute_result"
    }
   ],
   "source": [
    "theta=round(theta)\n",
    "theta"
   ]
  },
  {
   "cell_type": "code",
   "execution_count": 126,
   "metadata": {},
   "outputs": [
    {
     "data": {
      "text/plain": [
       "[<matplotlib.lines.Line2D at 0x7fc33579afd0>]"
      ]
     },
     "execution_count": 126,
     "metadata": {},
     "output_type": "execute_result"
    },
    {
     "data": {
      "image/png": "[encoded data removed]",
      "text/plain": [
       "<Figure size 432x288 with 1 Axes>"
      ]
     },
     "metadata": {},
     "output_type": "display_data"
    }
   ],
   "source": [
    "plt.scatter(x,y)\n",
    "plt.plot(x,y_pred)"
   ]
  },
  {
   "cell_type": "markdown",
   "metadata": {},
   "source": [
    "                                               #the end"
   ]
  }
 ],
 "metadata": {
  "kernelspec": {
   "display_name": "py36",
   "language": "python",
   "name": "py36"
  },
  "language_info": {
   "codemirror_mode": {
    "name": "ipython",
    "version": 3
   },
   "file_extension": ".py",
   "mimetype": "text/x-python",
   "name": "python",
   "nbconvert_exporter": "python",
   "pygments_lexer": "ipython3",
   "version": "3.6.6"
  }
 },
 "nbformat": 4,
 "nbformat_minor": 2
}
