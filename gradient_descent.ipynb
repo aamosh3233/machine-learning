{
 "cells": [
  {
   "cell_type": "code",
   "execution_count": 222,
   "metadata": {},
   "outputs": [],
   "source": [
    "import matplotlib.pyplot as plt,numpy as np"
   ]
  },
  {
   "cell_type": "code",
   "execution_count": 505,
   "metadata": {},
   "outputs": [
    {
     "data": {
      "text/plain": [
       "array([ 2,  8, 18, 32, 50])"
      ]
     },
     "execution_count": 505,
     "metadata": {},
     "output_type": "execute_result"
    }
   ],
   "source": [
    "#hyperparameter\n",
    "lr=0.1\n",
    "n=5\n",
    "\n",
    "x=[1,2,3,4,5]\n",
    "y=[2,4,6,8,10]\n",
    "A=np.multiply(x,y)\n",
    "A"
   ]
  },
  {
   "cell_type": "code",
   "execution_count": 475,
   "metadata": {},
   "outputs": [
    {
     "data": {
      "text/plain": [
       "[<matplotlib.lines.Line2D at 0x7f7165acf0f0>]"
      ]
     },
     "execution_count": 475,
     "metadata": {},
     "output_type": "execute_result"
    },
    {
     "data": {
      "image/png": "[encoded data removed]",
      "text/plain": [
       "<Figure size 432x288 with 1 Axes>"
      ]
     },
     "metadata": {},
     "output_type": "display_data"
    }
   ],
   "source": [
    "#dummy variables\n",
    "x=[1,2,3,4,5]\n",
    "y=[2,4,6,8,10]\n",
    "#when theta =0.5 y prediction becomes:\n",
    "y_pred=[0.5,1,1.5,2,2.5]\n",
    "plt.scatter(x,y)\n",
    "a=x\n",
    "\n",
    "plt.plot(x,y_pred)\n",
    "#y_pred=mx+b          \n",
    "#for beginner we will not be using b for this program"
   ]
  },
  {
   "cell_type": "markdown",
   "metadata": {},
   "source": [
    "# lets do step 1 with function and after that with loops'"
   ]
  },
  {
   "cell_type": "code",
   "execution_count": 501,
   "metadata": {},
   "outputs": [],
   "source": [
    "\n",
    "#for gradient descent:formula=j:=j+lr*[sum of all elements of [(theta * x)-y)] / (no. of elements)\n",
    "#changing the values   \n",
    "def value(theta,x,y):\n",
    "    for i in range(5):\n",
    "                \n",
    "        value=theta*x[i]-y[i]\n",
    "        print('theta 0=',theta,'x {}='.format(i),x[i],'y {}='.format(i),y[i])\n",
    "\n",
    "        a[i]=value\n",
    "    return a"
   ]
  },
  {
   "cell_type": "code",
   "execution_count": 502,
   "metadata": {},
   "outputs": [
    {
     "name": "stdout",
     "output_type": "stream",
     "text": [
      "theta 0= 1.62295088 x 0= 1 y 0= 2\n",
      "theta 0= 1.62295088 x 1= 2 y 1= 4\n",
      "theta 0= 1.62295088 x 2= 3 y 2= 6\n",
      "theta 0= 1.62295088 x 3= 4 y 3= 8\n",
      "theta 0= 1.62295088 x 4= 5 y 4= 10\n",
      "-5.655736799999999\n"
     ]
    }
   ],
   "source": [
    "\n",
    "\n",
    "a=value(theta,x,y)   \n",
    "print(np.sum(a))"
   ]
  },
  {
   "cell_type": "code",
   "execution_count": 478,
   "metadata": {},
   "outputs": [],
   "source": [
    "def outcome(theta,a,lr,n):\n",
    "    for i in range(5):\n",
    "        theta=theta-lr*a[i]/n\n",
    "        print(theta)\n",
    "    return theta    \n"
   ]
  },
  {
   "cell_type": "code",
   "execution_count": 479,
   "metadata": {},
   "outputs": [
    {
     "name": "stdout",
     "output_type": "stream",
     "text": [
      "0.53\n",
      "0.5900000000000001\n",
      "0.68\n",
      "0.8\n",
      "0.9500000000000001\n",
      "0.9500000000000001\n"
     ]
    }
   ],
   "source": [
    "the=outcome(theta,a,lr,n)    \n",
    "print(the)"
   ]
  },
  {
   "cell_type": "markdown",
   "metadata": {},
   "source": [
    "\n",
    "# lets begin our code"
   ]
  },
  {
   "cell_type": "code",
   "execution_count": 636,
   "metadata": {},
   "outputs": [
    {
     "data": {
      "text/plain": [
       "array([ 2,  8, 18, 32, 50])"
      ]
     },
     "execution_count": 636,
     "metadata": {},
     "output_type": "execute_result"
    }
   ],
   "source": [
    "#hyperparameter\n",
    "lr=0.1\n",
    "n=5\n",
    "\n",
    "x=[1,2,3,4,5]\n",
    "y=[2,4,6,8,10]\n",
    "A=np.multiply(x,y)\n",
    "A"
   ]
  },
  {
   "cell_type": "code",
   "execution_count": 667,
   "metadata": {},
   "outputs": [
    {
     "data": {
      "text/plain": [
       "array([0.95, 0.95, 0.95, 0.95, 0.95])"
      ]
     },
     "execution_count": 667,
     "metadata": {},
     "output_type": "execute_result"
    }
   ],
   "source": [
    "theta=0.95\n",
    "A=np.array([theta]*5)\n",
    "A"
   ]
  },
  {
   "cell_type": "code",
   "execution_count": null,
   "metadata": {},
   "outputs": [],
   "source": []
  },
  {
   "cell_type": "code",
   "execution_count": 677,
   "metadata": {},
   "outputs": [
    {
     "name": "stdout",
     "output_type": "stream",
     "text": [
      "theta0= 1.9975051555185415\n",
      "theta1= 1.9979328431439343 x1 \t 2\n",
      "theta2= 1.9982963776255185 x2 \t 3\n",
      "theta3= 1.998480283304437 x3 \t 4\n",
      "theta4= 1.9987155114984037 x4 \t 5\n"
     ]
    },
    {
     "data": {
      "text/plain": [
       "1.9987155114984037"
      ]
     },
     "execution_count": 677,
     "metadata": {},
     "output_type": "execute_result"
    }
   ],
   "source": [
    "for i in range(5):\n",
    "  \n",
    "    \n",
    "    if i==0:\n",
    "\n",
    "        theta1=theta-lr*(np.sum(np.subtract(np.multiply(A,x),y)))/n\n",
    "        print('theta0=',theta1)\n",
    "        \n",
    "    else:\n",
    "        theta1=theta-lr*(np.sum(np.subtract(np.multiply(A,x),y)))*x[i]/n\n",
    "        print('theta{}='.format(i),theta1,'x{}'.format(i),'\\t',x[i])\n",
    "    A=theta1\n",
    "    \n",
    "A"
   ]
  },
  {
   "cell_type": "code",
   "execution_count": 678,
   "metadata": {},
   "outputs": [
    {
     "data": {
      "text/plain": [
       "2.0"
      ]
     },
     "execution_count": 678,
     "metadata": {},
     "output_type": "execute_result"
    }
   ],
   "source": [
    "round(A)\n"
   ]
  },
  {
   "cell_type": "markdown",
   "metadata": {},
   "source": [
    "# THUS THE WEIGHT OF X MUST BE 2 TO MINIMIZE ERROR TO ZERO"
   ]
  },
  {
   "cell_type": "code",
   "execution_count": 679,
   "metadata": {},
   "outputs": [
    {
     "data": {
      "text/plain": [
       "[<matplotlib.lines.Line2D at 0x7f7165a2d7b8>]"
      ]
     },
     "execution_count": 679,
     "metadata": {},
     "output_type": "execute_result"
    },
    {
     "data": {
      "image/png": "[encoded data removed]",
      "text/plain": [
       "<Figure size 432x288 with 1 Axes>"
      ]
     },
     "metadata": {},
     "output_type": "display_data"
    }
   ],
   "source": [
    "#dummy variables\n",
    "x=[1,2,3,4,5]\n",
    "y=[2,4,6,8,10]\n",
    "y_pred=np.multiply(2,x)\n",
    "plt.scatter(x,y)\n",
    "\n",
    "\n",
    "plt.plot(x,y_pred)\n",
    "#y_pred=mx+b         "
   ]
  },
  {
   "cell_type": "markdown",
   "metadata": {},
   "source": [
    "                                                 #the end"
   ]
  }
 ],
 "metadata": {
  "kernelspec": {
   "display_name": "py36",
   "language": "python",
   "name": "py36"
  },
  "language_info": {
   "codemirror_mode": {
    "name": "ipython",
    "version": 3
   },
   "file_extension": ".py",
   "mimetype": "text/x-python",
   "name": "python",
   "nbconvert_exporter": "python",
   "pygments_lexer": "ipython3",
   "version": "3.6.6"
  }
 },
 "nbformat": 4,
 "nbformat_minor": 2
}
